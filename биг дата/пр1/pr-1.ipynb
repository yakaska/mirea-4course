{
 "cells": [
  {
   "metadata": {},
   "cell_type": "markdown",
   "source": "python --version",
   "id": "acca40b644761ae8"
  },
  {
   "metadata": {},
   "cell_type": "markdown",
   "source": "2.\tНаписать программу, которая вычисляет площадь фигуры, параметры которой подаются на вход. Фигуры, которые подаются на вход: треугольник, прямоугольник, круг. Результатом работы является словарь, где ключ – это название фигуры, а значение – это площадь.",
   "id": "cd51bb4a2e643cf"
  },
  {
   "metadata": {
    "ExecuteTime": {
     "end_time": "2024-09-08T11:32:55.334829Z",
     "start_time": "2024-09-08T11:32:55.330977Z"
    }
   },
   "cell_type": "code",
   "source": [
    "import math\n",
    "\n",
    "\n",
    "def calculate_area(shape, **params):\n",
    "    areas = {}\n",
    "\n",
    "    if shape == 'треугольник':\n",
    "        a = params.get('a')\n",
    "        b = params.get('b')\n",
    "        c = params.get('c')\n",
    "        if a and b and c:\n",
    "            s = (a + b + c) / 2\n",
    "            area = math.sqrt(s * (s - a) * (s - b) * (s - c))\n",
    "            areas[shape] = area\n",
    "        else:\n",
    "            areas[shape] = 'Недостаточно данных для вычисления площади треугольника'\n",
    "\n",
    "    elif shape == 'прямоугольник':\n",
    "        width = params.get('w')\n",
    "        height = params.get('h')\n",
    "        if width and height:\n",
    "            area = width * height\n",
    "            areas[shape] = area\n",
    "        else:\n",
    "            areas[shape] = 'Недостаточно данных для вычисления площади прямоугольника'\n",
    "\n",
    "    elif shape == 'круг':\n",
    "        radius = params.get('r')\n",
    "        if radius:\n",
    "            area = math.pi * radius ** 2\n",
    "            areas[shape] = area\n",
    "        else:\n",
    "            areas[shape] = 'Недостаточно данных для вычисления площади круга'\n",
    "\n",
    "    else:\n",
    "        areas[shape] = 'Введите прямоугольник либо круг либо треугольник!'\n",
    "\n",
    "    return areas\n"
   ],
   "id": "b1470f5936eb83ea",
   "outputs": [],
   "execution_count": 2
  },
  {
   "metadata": {
    "ExecuteTime": {
     "end_time": "2024-09-08T11:32:58.644896Z",
     "start_time": "2024-09-08T11:32:58.641404Z"
    }
   },
   "cell_type": "code",
   "source": [
    "shape = 'прямоугольник'\n",
    "params = {'w': 5, 'h': 10}\n",
    "print(calculate_area(shape, **params))\n",
    "\n",
    "shape = 'треугольник'\n",
    "params = {'a': 3, 'b': 4, 'c': 5}\n",
    "print(calculate_area(shape, **params))\n",
    "\n",
    "shape = 'круг'\n",
    "params = {'r': 7}\n",
    "print(calculate_area(shape, **params))"
   ],
   "id": "2745d0cf8631b8f0",
   "outputs": [
    {
     "name": "stdout",
     "output_type": "stream",
     "text": [
      "{'прямоугольник': 50}\n",
      "{'треугольник': 6.0}\n",
      "{'круг': 153.93804002589985}\n"
     ]
    }
   ],
   "execution_count": 3
  },
  {
   "metadata": {},
   "cell_type": "markdown",
   "source": "3.\tНаписать программу, которая на вход получает два числа и операцию, которую к ним нужно применить. Должны быть реализованы следующие операции: +, -, /, //, abs – модуль, pow или ** – возведение в степень.",
   "id": "fc3a5a67bb6f0af9"
  },
  {
   "metadata": {
    "ExecuteTime": {
     "end_time": "2024-09-08T11:36:12.530262Z",
     "start_time": "2024-09-08T11:36:12.526378Z"
    }
   },
   "cell_type": "code",
   "source": [
    "def calculate(num1, num2, operation):\n",
    "    try:\n",
    "        if operation == '+':\n",
    "            result = num1 + num2\n",
    "        elif operation == '-':\n",
    "            result = num1 - num2\n",
    "        elif operation == '/':\n",
    "            if num2 != 0:\n",
    "                result = num1 / num2\n",
    "            else:\n",
    "                result = 'Ошибка: деление на ноль'\n",
    "        elif operation == '//':\n",
    "            if num2 != 0:\n",
    "                result = num1 // num2\n",
    "            else:\n",
    "                result = 'Ошибка: деление на ноль'\n",
    "        elif operation == 'abs':\n",
    "            result = abs(num1)\n",
    "        elif operation == 'pow' or operation == '**':  # да, я воспринимаю буквально!\n",
    "            result = num1 ** num2\n",
    "        else:\n",
    "            result = 'Неизвестная операция'\n",
    "\n",
    "        return result\n",
    "    except Exception as e:\n",
    "        return f'Ошибка: {e}'"
   ],
   "id": "706c5c9ad8ea31a2",
   "outputs": [],
   "execution_count": 5
  },
  {
   "metadata": {
    "ExecuteTime": {
     "end_time": "2024-09-08T11:37:55.288730Z",
     "start_time": "2024-09-08T11:37:55.285546Z"
    }
   },
   "cell_type": "code",
   "source": [
    "num1 = 12\n",
    "num2 = 5\n",
    "\n",
    "print(\"'+':\", calculate(num1, num2, '+'))\n",
    "print(\"'-':\", calculate(num1, num2, '-'))\n",
    "print(\"'/':\", calculate(num1, num2, '/'))\n",
    "print(\"'//':\", calculate(num1, num2, '//'))\n",
    "print(\"'abs':\", calculate(num1, 0, 'abs'))\n",
    "print(\"'pow':\", calculate(num1, num2, 'pow'))\n",
    "print(\"'**':\", calculate(num1, num2, '**'))"
   ],
   "id": "8fdf0e1d902c9a7d",
   "outputs": [
    {
     "name": "stdout",
     "output_type": "stream",
     "text": [
      "'+': 17\n",
      "'-': 7\n",
      "'/': 2.4\n",
      "'//': 2\n",
      "'abs': 12\n",
      "'pow': 248832\n",
      "'**': 248832\n"
     ]
    }
   ],
   "execution_count": 8
  },
  {
   "metadata": {},
   "cell_type": "markdown",
   "source": "4.\tНапишите программу, которая считывает с консоли числа (по одному в строке) до тех пор, пока сумма введённых чисел не будет равна 0 и после этого выводит сумму квадратов всех считанных чисел.",
   "id": "7aa09a3399c1c6c0"
  },
  {
   "metadata": {
    "ExecuteTime": {
     "end_time": "2024-09-08T11:41:39.723154Z",
     "start_time": "2024-09-08T11:41:39.719439Z"
    }
   },
   "cell_type": "code",
   "source": [
    "def input_sum():\n",
    "    numbers = []\n",
    "    total_sum = 0\n",
    "    while total_sum != 0 or not numbers:\n",
    "        try:\n",
    "            number = float(input(\"Введите число: \"))\n",
    "            numbers.append(number)\n",
    "            total_sum += number\n",
    "        except ValueError:\n",
    "            print(\"Введите допустимое число.\")\n",
    "\n",
    "        sum_of_squares = sum(x ** 2 for x in numbers)\n",
    "        print(\"Сумма квадратов:\", sum_of_squares)\n"
   ],
   "id": "252472e66fbee328",
   "outputs": [],
   "execution_count": 22
  },
  {
   "metadata": {
    "ExecuteTime": {
     "end_time": "2024-09-08T11:41:47.701727Z",
     "start_time": "2024-09-08T11:41:40.704201Z"
    }
   },
   "cell_type": "code",
   "source": "input_sum()",
   "id": "3cc52ea55d980a90",
   "outputs": [
    {
     "name": "stdout",
     "output_type": "stream",
     "text": [
      "Сумма квадратов: 1.0\n",
      "Сумма квадратов: 2.0\n",
      "Сумма квадратов: 6.0\n"
     ]
    }
   ],
   "execution_count": 23
  },
  {
   "metadata": {},
   "cell_type": "markdown",
   "source": "5.\tНапишите программу, которая выводит последовательность чисел, длинною N, где каждое число повторяется столько раз, чему оно равно. На вход программе передаётся неотрицательное целое число N. Например, если N = 7, то программа должна вывести 1 2 2 3 3 3 4. Вывод элементов списка через пробел – print(*list).",
   "id": "5095e949b0c8ab41"
  },
  {
   "metadata": {
    "ExecuteTime": {
     "end_time": "2024-09-08T11:47:31.402969Z",
     "start_time": "2024-09-08T11:47:27.993348Z"
    }
   },
   "cell_type": "code",
   "source": [
    "def dummy_sequence(N):  # отлично для пароля wi-fi\n",
    "    sequence = []\n",
    "    current_number = 1\n",
    "    while len(sequence) < N:\n",
    "        count = min(current_number, N - len(sequence))\n",
    "        sequence.extend([current_number] * count)\n",
    "        current_number += 1\n",
    "    return sequence\n",
    "\n",
    "\n",
    "N = int(input(\"Введите целое число N: \"))\n",
    "sequence = dummy_sequence(abs(N))\n",
    "print(*sequence)"
   ],
   "id": "3077066f2a9ba477",
   "outputs": [
    {
     "name": "stdout",
     "output_type": "stream",
     "text": [
      "1 2 2 3 3 3 4 4 4\n"
     ]
    }
   ],
   "execution_count": 26
  },
  {
   "metadata": {},
   "cell_type": "markdown",
   "source": [
    "6.\tДаны два списка:\n",
    "А = [1, 2, 3, 4, 2, 1, 3, 4, 5, 6, 5, 4, 3, 2]\n",
    "В = [‘a’, ’b’, ’c’, ’c’, ’c’, ’b’, ’a’, ’c’, ’a’, ’a’, ’b’, ’c’, ’b’, ’a’]\n",
    "Создать словарь, в котором ключи – это содержимое списка В, а значения для ключей словаря – это сумма всех элементов списка А в соответствии с буквой, содержащийся на той же позиции в списке В. Пример результата программы: {‘a’ : 10, ‘b’ : 15, ‘c’ : 6}.\n"
   ],
   "id": "7c7dc8320675bbde"
  },
  {
   "metadata": {
    "ExecuteTime": {
     "end_time": "2024-09-08T11:48:57.791401Z",
     "start_time": "2024-09-08T11:48:57.787400Z"
    }
   },
   "cell_type": "code",
   "source": [
    "A = [1, 2, 3, 4, 2, 1, 3, 4, 5, 6, 5, 4, 3, 2]\n",
    "B = ['a', 'b', 'c', 'c', 'c', 'b', 'a', 'c', 'a', 'a', 'b', 'c', 'b', 'a']\n",
    "\n",
    "result_dict = {}\n",
    "\n",
    "for a, b in zip(A, B):  # раньше о такой чудесной функции не знал\n",
    "    if b in result_dict:\n",
    "        result_dict[b] += a\n",
    "    else:\n",
    "        result_dict[b] = a\n",
    "\n",
    "print(result_dict)"
   ],
   "id": "f75851351c26bcd1",
   "outputs": [
    {
     "name": "stdout",
     "output_type": "stream",
     "text": [
      "{'a': 17, 'b': 11, 'c': 17}\n"
     ]
    }
   ],
   "execution_count": 27
  },
  {
   "metadata": {},
   "cell_type": "markdown",
   "source": "Скачать и загрузить данные о стоимости домов в калифорнии, используя библиотеку sklearn. ",
   "id": "8075debbef7e1408"
  },
  {
   "metadata": {
    "ExecuteTime": {
     "end_time": "2024-09-08T11:53:41.754788Z",
     "start_time": "2024-09-08T11:53:39.898010Z"
    }
   },
   "cell_type": "code",
   "source": [
    "from sklearn.datasets import fetch_california_housing\n",
    "\n",
    "data = fetch_california_housing(as_frame=True)\n",
    "\n",
    "df = data.frame\n",
    "\n",
    "#8\n",
    "df.info()"
   ],
   "id": "5c94db52c9d4912c",
   "outputs": [
    {
     "name": "stdout",
     "output_type": "stream",
     "text": [
      "<class 'pandas.core.frame.DataFrame'>\n",
      "RangeIndex: 20640 entries, 0 to 20639\n",
      "Data columns (total 9 columns):\n",
      " #   Column       Non-Null Count  Dtype  \n",
      "---  ------       --------------  -----  \n",
      " 0   MedInc       20640 non-null  float64\n",
      " 1   HouseAge     20640 non-null  float64\n",
      " 2   AveRooms     20640 non-null  float64\n",
      " 3   AveBedrms    20640 non-null  float64\n",
      " 4   Population   20640 non-null  float64\n",
      " 5   AveOccup     20640 non-null  float64\n",
      " 6   Latitude     20640 non-null  float64\n",
      " 7   Longitude    20640 non-null  float64\n",
      " 8   MedHouseVal  20640 non-null  float64\n",
      "dtypes: float64(9)\n",
      "memory usage: 1.4 MB\n"
     ]
    }
   ],
   "execution_count": 28
  },
  {
   "metadata": {
    "ExecuteTime": {
     "end_time": "2024-09-08T11:54:45.922273Z",
     "start_time": "2024-09-08T11:54:45.918955Z"
    }
   },
   "cell_type": "code",
   "source": [
    "#9\n",
    "print(df.isna().sum())"
   ],
   "id": "3f0a7853586f1ce7",
   "outputs": [
    {
     "name": "stdout",
     "output_type": "stream",
     "text": [
      "MedInc         0\n",
      "HouseAge       0\n",
      "AveRooms       0\n",
      "AveBedrms      0\n",
      "Population     0\n",
      "AveOccup       0\n",
      "Latitude       0\n",
      "Longitude      0\n",
      "MedHouseVal    0\n",
      "dtype: int64\n"
     ]
    }
   ],
   "execution_count": 30
  },
  {
   "metadata": {
    "ExecuteTime": {
     "end_time": "2024-09-08T11:55:32.101375Z",
     "start_time": "2024-09-08T11:55:32.094634Z"
    }
   },
   "cell_type": "code",
   "source": [
    "#10\n",
    "print(df.loc[(df['HouseAge'] > 50) & (df['Population'] > 2500)])"
   ],
   "id": "bd9007d32aaa3a86",
   "outputs": [
    {
     "name": "stdout",
     "output_type": "stream",
     "text": [
      "       MedInc  HouseAge  AveRooms  AveBedrms  Population    AveOccup  \\\n",
      "460    1.4012      52.0  3.105714   1.060000      3337.0    9.534286   \n",
      "4131   3.5349      52.0  4.646119   1.047945      2589.0    5.910959   \n",
      "4440   2.6806      52.0  4.806283   1.057592      3062.0    4.007853   \n",
      "5986   1.8750      52.0  4.500000   1.206349      2688.0   21.333333   \n",
      "7369   3.1901      52.0  4.730942   1.017937      3731.0    4.182735   \n",
      "8227   2.3305      52.0  3.488860   1.170380      3018.0    3.955439   \n",
      "13034  6.1359      52.0  8.275862   1.517241      6675.0  230.172414   \n",
      "15634  1.8295      52.0  2.628169   1.053521      2957.0    4.164789   \n",
      "15652  0.9000      52.0  2.237474   1.053535      3260.0    2.237474   \n",
      "15657  2.5166      52.0  2.839075   1.184049      3436.0    1.621520   \n",
      "15659  1.7240      52.0  2.278566   1.082348      4518.0    1.780142   \n",
      "15795  2.5755      52.0  3.402576   1.058776      2619.0    2.108696   \n",
      "15868  2.8135      52.0  4.584329   1.041169      2987.0    3.966799   \n",
      "\n",
      "       Latitude  Longitude  MedHouseVal  \n",
      "460       37.87    -122.26      1.75000  \n",
      "4131      34.13    -118.20      1.93600  \n",
      "4440      34.08    -118.21      1.53000  \n",
      "5986      34.10    -117.71      2.12500  \n",
      "7369      33.97    -118.21      1.67600  \n",
      "8227      33.78    -118.20      1.62500  \n",
      "13034     38.69    -121.15      2.25000  \n",
      "15634     37.80    -122.41      2.43800  \n",
      "15652     37.80    -122.41      5.00001  \n",
      "15657     37.79    -122.41      2.75000  \n",
      "15659     37.79    -122.41      2.25000  \n",
      "15795     37.77    -122.42      3.25000  \n",
      "15868     37.76    -122.41      2.60300  \n"
     ]
    }
   ],
   "execution_count": 33
  },
  {
   "metadata": {
    "ExecuteTime": {
     "end_time": "2024-09-08T11:57:40.571932Z",
     "start_time": "2024-09-08T11:57:40.568894Z"
    }
   },
   "cell_type": "code",
   "source": [
    "#11\n",
    "print(f\"Max med:{df['MedHouseVal'].max()}\")\n",
    "print(f\"Min med:{df['MedHouseVal'].min()}\")\n"
   ],
   "id": "fe06a43fd63c2d21",
   "outputs": [
    {
     "name": "stdout",
     "output_type": "stream",
     "text": [
      "Max med:5.00001\n",
      "Min med:0.14999\n"
     ]
    }
   ],
   "execution_count": 35
  },
  {
   "metadata": {
    "ExecuteTime": {
     "end_time": "2024-09-08T12:05:10.359905Z",
     "start_time": "2024-09-08T12:05:10.355317Z"
    }
   },
   "cell_type": "code",
   "source": [
    "#12\n",
    "for column, mean_value in df.apply(lambda x: x.mean()).items():\n",
    "    print(f\"Column: {column}, Mean: {mean_value}\")"
   ],
   "id": "7627ed66ff8b0cb0",
   "outputs": [
    {
     "name": "stdout",
     "output_type": "stream",
     "text": [
      "Column: MedInc, Mean: 3.8706710029069766\n",
      "Column: HouseAge, Mean: 28.639486434108527\n",
      "Column: AveRooms, Mean: 5.428999742190376\n",
      "Column: AveBedrms, Mean: 1.096675149606208\n",
      "Column: Population, Mean: 1425.4767441860465\n",
      "Column: AveOccup, Mean: 3.0706551594363742\n",
      "Column: Latitude, Mean: 35.63186143410853\n",
      "Column: Longitude, Mean: -119.56970445736432\n",
      "Column: MedHouseVal, Mean: 2.068558169089147\n"
     ]
    }
   ],
   "execution_count": 48
  },
  {
   "metadata": {
    "ExecuteTime": {
     "end_time": "2024-09-08T12:02:59.931394Z",
     "start_time": "2024-09-08T12:02:59.927678Z"
    }
   },
   "cell_type": "code",
   "source": [
    "#1* табличный метод\n",
    "morze = {\n",
    "    'a': '.-', 'b': '-...', 'c': '-.-.', 'd': '-..', 'e': '.', 'f': '..-.', 'g': '--.', 'h': '....',\n",
    "    'i': '..', 'j': '.---', 'k': '-.-', 'l': '.-..', 'm': '--', 'n': '-.', 'o': '---', 'p': '.--.',\n",
    "    'q': '--.-', 'r': '.-.', 's': '...', 't': '-', 'u': '..-', 'v': '...-', 'w': '.--', 'x': '-..-',\n",
    "    'y': '-.--', 'z': '--..'\n",
    "}\n",
    "\n",
    "\n",
    "def encode_morse(text):\n",
    "    words = text.lower().split()\n",
    "    encoded_words = []\n",
    "    for word in words:\n",
    "        encoded_letters = [morze[char] for char in word if char in morze]\n",
    "        encoded_word = ' '.join(encoded_letters)\n",
    "        encoded_words.append(encoded_word)\n",
    "    return ' '.join(encoded_words)\n",
    "\n",
    "\n",
    "text = \"Ignition sequence start\"\n",
    "encoded_text = encode_morse(text)\n",
    "print(encoded_text)"
   ],
   "id": "876cd657dad7cfda",
   "outputs": [
    {
     "name": "stdout",
     "output_type": "stream",
     "text": [
      ".. --. -. .. - .. --- -. ... . --.- ..- . -. -.-. . ... - .- .-. -\n"
     ]
    }
   ],
   "execution_count": 45
  },
  {
   "metadata": {
    "ExecuteTime": {
     "end_time": "2024-09-08T12:10:10.389806Z",
     "start_time": "2024-09-08T12:09:14.313818Z"
    }
   },
   "cell_type": "code",
   "source": [
    "#2* Регистрация\n",
    "def process_queries(n, queries):\n",
    "    # Словарь для хранения имени и количества его использования\n",
    "    name_count = {}\n",
    "    \n",
    "    results = []\n",
    "    \n",
    "    for name in queries:\n",
    "        if name not in name_count:\n",
    "            name_count[name] = 1\n",
    "            results.append(\"OK\")\n",
    "        else:\n",
    "            k = name_count[name]\n",
    "            while f\"{name}{k}\" in name_count:\n",
    "                k += 1\n",
    "            new_name = f\"{name}{k}\"\n",
    "            name_count[new_name] = 1\n",
    "            name_count[name] = k + 1\n",
    "            results.append(new_name)\n",
    "    \n",
    "    return results\n",
    "\n",
    "# Пример использования\n",
    "n = int(input())\n",
    "queries = [input().strip() for _ in range(n)]\n",
    "\n",
    "results = process_queries(n, queries)\n",
    "\n",
    "for result in results:\n",
    "    print(result)"
   ],
   "id": "4e371ca7128b17d6",
   "outputs": [
    {
     "name": "stdout",
     "output_type": "stream",
     "text": [
      "OK\n",
      "OK\n",
      "OK\n",
      "banana1\n",
      "OK\n",
      "OK\n",
      "banana2\n",
      "samsung1\n",
      "必勝1\n",
      "apple1\n"
     ]
    }
   ],
   "execution_count": 53
  },
  {
   "metadata": {
    "ExecuteTime": {
     "end_time": "2024-09-08T12:31:18.202246Z",
     "start_time": "2024-09-08T12:30:36.572515Z"
    }
   },
   "cell_type": "code",
   "source": [
    "#3* доступыыы\n",
    "def access_check(n, file_permissions, m, requests):\n",
    "    permissions_dict = {}\n",
    "\n",
    "    for entry in file_permissions:\n",
    "        parts = entry.split()\n",
    "        filename = parts[0]\n",
    "        actions = set(parts[1:])\n",
    "        permissions_dict[filename] = actions\n",
    "\n",
    "    action_map = {'write': 'w', 'read': 'r', 'execute': 'x'}\n",
    "\n",
    "    results = []\n",
    "    for request in requests:\n",
    "        parts = request.split(maxsplit=1)\n",
    "        if len(parts) < 2:\n",
    "            results.append(\"Access denied\")\n",
    "            continue\n",
    "\n",
    "        action, filename = parts\n",
    "        action_code = action_map.get(action, '')\n",
    "\n",
    "        if filename in permissions_dict and action_code in permissions_dict[filename]:\n",
    "            results.append(\"OK\")\n",
    "        else:\n",
    "            results.append(\"Access denied\")\n",
    "\n",
    "    return results\n",
    "\n",
    "\n",
    "\n",
    "n = int(input().strip())\n",
    "file_permissions = [input().strip() for _ in range(n)]\n",
    "m = int(input().strip())\n",
    "requests = [input().strip() for _ in range(m)]\n",
    "results = access_check(n, file_permissions, m, requests)\n",
    "for result in results:\n",
    "    print(result)\n",
    "\n"
   ],
   "id": "b84268fc335b9e64",
   "outputs": [
    {
     "name": "stdout",
     "output_type": "stream",
     "text": [
      "Access denied\n",
      "OK\n",
      "OK\n",
      "OK\n",
      "OK\n"
     ]
    }
   ],
   "execution_count": 68
  },
  {
   "metadata": {},
   "cell_type": "code",
   "outputs": [],
   "execution_count": null,
   "source": "",
   "id": "535b5455edb21477"
  }
 ],
 "metadata": {
  "kernelspec": {
   "display_name": "Python 3",
   "language": "python",
   "name": "python3"
  },
  "language_info": {
   "codemirror_mode": {
    "name": "ipython",
    "version": 2
   },
   "file_extension": ".py",
   "mimetype": "text/x-python",
   "name": "python",
   "nbconvert_exporter": "python",
   "pygments_lexer": "ipython2",
   "version": "2.7.6"
  }
 },
 "nbformat": 4,
 "nbformat_minor": 5
}
